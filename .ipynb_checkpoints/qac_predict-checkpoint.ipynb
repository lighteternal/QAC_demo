{
 "cells": [
  {
   "cell_type": "code",
   "execution_count": 3,
   "metadata": {},
   "outputs": [
    {
     "name": "stderr",
     "output_type": "stream",
     "text": [
      "Using TensorFlow backend.\n"
     ]
    }
   ],
   "source": [
    "from textgenrnn import textgenrnn\n",
    "\n",
    "\n",
    "textgen_demo = textgenrnn(weights_path='demo_model_weights.hdf5',\n",
    "                       vocab_path='demo_model_vocab.json',\n",
    "                       config_path='demo_model_config.json')\n"
   ]
  },
  {
   "cell_type": "code",
   "execution_count": 6,
   "metadata": {},
   "outputs": [
    {
     "name": "stdout",
     "output_type": "stream",
     "text": [
      "Start your query and press ENTER for suggestions: \n",
      "Bring me partners from\n"
     ]
    },
    {
     "name": "stderr",
     "output_type": "stream",
     "text": [
      "100%|██████████| 3/3 [00:04<00:00,  1.54s/it]\n"
     ]
    },
    {
     "data": {
      "text/plain": [
       "['Bring me partners from Bulgaria involved in HARMONY with a budget greater than 12000000 euros under the FP7 calls related with NLP',\n",
       " 'Bring me partners from Portugal involved in HARMONY with a budget greater than 10000000 euros under the FP7 calls related with energy',\n",
       " 'Bring me partners from Germany involved in HARMONY with a budget greater than 12000000 euros under the H2020 calls related with energy']"
      ]
     },
     "execution_count": 6,
     "metadata": {},
     "output_type": "execute_result"
    }
   ],
   "source": [
    "flag=False\n",
    "while flag==True:\n",
    "    print(\"Start your query and press ENTER for suggestions: \")\n",
    "    input1 = input() \n",
    "\n",
    "    textgen_demo.generate(n=3, prefix=input1, temperature=0.3, return_as_list=True)\n",
    "    print(\"Continue? Y/N\")\n",
    "    input2 = input()\n",
    "    if input2 = 'N' or input2 = 'No' or input2 = 'no' or input2 = 'n':\n",
    "        flag = False\n",
    "        print('===Terminating...====')\n",
    "    elif input2 = 'Yes' or input2 = 'Y' or input2 = 'yes' or input2 = 'y':\n",
    "        flag = True\n",
    "        print('===Next query====')\n",
    "    else: \n",
    "        flag = False\n",
    "        print('=== Invalid answer, terminating...====')\n",
    "\n",
    "\n",
    "        \n"
   ]
  },
  {
   "cell_type": "markdown",
   "metadata": {},
   "source": []
  }
 ],
 "metadata": {
  "kernelspec": {
   "display_name": "Python 3",
   "language": "python",
   "name": "python3"
  },
  "language_info": {
   "codemirror_mode": {
    "name": "ipython",
    "version": 3
   },
   "file_extension": ".py",
   "mimetype": "text/x-python",
   "name": "python",
   "nbconvert_exporter": "python",
   "pygments_lexer": "ipython3",
   "version": "3.6.9"
  }
 },
 "nbformat": 4,
 "nbformat_minor": 2
}

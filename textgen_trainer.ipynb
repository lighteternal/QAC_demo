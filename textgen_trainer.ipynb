{
 "cells": [
  {
   "cell_type": "code",
   "execution_count": 50,
   "metadata": {},
   "outputs": [
    {
     "name": "stdout",
     "output_type": "stream",
     "text": [
      "Training new model w/ 2-layer, 128-cell Bidirectional LSTMs\n",
      "Training on 41,090,306 character sequences.\n",
      "WARNING:tensorflow:sample_weight modes were coerced from\n",
      "  ...\n",
      "    to  \n",
      "  ['...']\n",
      "Train for 321018 steps\n",
      "321017/321018 [============================>.] - ETA: 0s - loss: 0.1129####################\n",
      "Temperature: 0.2\n",
      "####################\n",
      "Bring projects from Portugal starting in 2019 with a budget greater than 12000000 euros under the H2020 calls related with NLP\n",
      "\n",
      "Give me projects from Germany ending in 2011 with a budget greater than 12000000 euros under the FP7 calls related with nuclear energy\n",
      "\n",
      "Give me projects from Portugal ending in 2015 with a budget greater than 12000000 euros under the FP7 calls related with NLP\n",
      "\n",
      "####################\n",
      "Temperature: 0.5\n",
      "####################\n",
      "Bring projects from France starting in 2011 with a budget greater than 10000000 euros under the H2020 calls related with smart grids\n",
      "\n",
      "Give me projects from France starting in 2020 with a budget greater than 12000000 euros under the FP7 calls related with energy\n",
      "\n",
      "Give me projects from Sweden ending in 2013 with a budget greater than 12000000 euros under the H2020 calls related with energy\n",
      "\n",
      "####################\n",
      "Temperature: 1.0\n",
      "####################\n",
      "Bring partners from Greece related with energy with a budget greater than 12000000 euros under the H2020 calls related with smart grids\n",
      "\n",
      "Give me projects from France starting in 2011 with a budget greater than 9000000 euros under the FP7 calls related with NLP\n",
      "\n",
      "Give me projects from Portugal ending in 2019 with a budget greater than 10000000 euros under the FP7 calls related with cybersecurity\n",
      "\n",
      "321018/321018 [==============================] - 40532s 126ms/step - loss: 0.1129\n",
      "Model: \"model_22\"\n",
      "__________________________________________________________________________________________________\n",
      "Layer (type)                    Output Shape         Param #     Connected to                     \n",
      "==================================================================================================\n",
      "input (InputLayer)              [(None, 40)]         0                                            \n",
      "__________________________________________________________________________________________________\n",
      "embedding (Embedding)           (None, 40, 300)      16200       input[0][0]                      \n",
      "__________________________________________________________________________________________________\n",
      "rnn_1 (Bidirectional)           (None, 40, 256)      439296      embedding[0][0]                  \n",
      "__________________________________________________________________________________________________\n",
      "rnn_2 (Bidirectional)           (None, 40, 256)      394240      rnn_1[0][0]                      \n",
      "__________________________________________________________________________________________________\n",
      "rnn_concat (Concatenate)        (None, 40, 812)      0           embedding[0][0]                  \n",
      "                                                                 rnn_1[0][0]                      \n",
      "                                                                 rnn_2[0][0]                      \n",
      "__________________________________________________________________________________________________\n",
      "attention (AttentionWeightedAve (None, 812)          812         rnn_concat[0][0]                 \n",
      "__________________________________________________________________________________________________\n",
      "output (Dense)                  (None, 54)           43902       attention[0][0]                  \n",
      "==================================================================================================\n",
      "Total params: 894,450\n",
      "Trainable params: 894,450\n",
      "Non-trainable params: 0\n",
      "__________________________________________________________________________________________________\n",
      "None\n"
     ]
    }
   ],
   "source": [
    "from textgenrnn import textgenrnn\n",
    "\n",
    "textgen = textgenrnn(name=\"demo_model\")\n",
    "\n",
    "textgen.reset()\n",
    "textgen.train_on_texts(corpus,\n",
    "                        new_model=True,\n",
    "                        rnn_bidirectional=True,\n",
    "                        rnn_size=128,\n",
    "                        dim_embeddings=300,\n",
    "                        num_epochs=1)\n",
    "\n",
    "print(textgen.model.summary())\n"
   ]
  },
  {
   "cell_type": "code",
   "execution_count": null,
   "metadata": {},
   "outputs": [],
   "source": []
  }
 ],
 "metadata": {
  "kernelspec": {
   "display_name": "Python 3",
   "language": "python",
   "name": "python3"
  },
  "language_info": {
   "codemirror_mode": {
    "name": "ipython",
    "version": 3
   },
   "file_extension": ".py",
   "mimetype": "text/x-python",
   "name": "python",
   "nbconvert_exporter": "python",
   "pygments_lexer": "ipython3",
   "version": "3.6.9"
  }
 },
 "nbformat": 4,
 "nbformat_minor": 2
}

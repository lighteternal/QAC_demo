{
 "cells": [
  {
   "cell_type": "code",
   "execution_count": 1,
   "metadata": {},
   "outputs": [],
   "source": [
    "import itertools\n",
    "\n",
    "list1 = ['Bring', 'Find me', 'Find', 'Give me', 'Get']\n",
    "list21 = ['projects from'] \n",
    "list22 = [ 'partners from'] \n",
    "list3 = ['Greece', 'Italy', 'France', 'Spain', 'Switzerland', 'Germany', 'Belgium', 'Bulgaria', 'Portugal', 'Netherlands', 'Sweden']\n",
    "list4 = ['starting in', 'ending in']\n",
    "list5 = ['2010', '2011', '2012', '2013','2014', '2015', '2016', '2017','2018', '2019', '2020', '2021']\n",
    "list6 = ['with a budget greater than', 'with a budget less than']\n",
    "list7 = ['4000000 euros', '5000000 euros','6000000 euros', '7000000 euros','8000000 euros', '9000000 euros','10000000 euros', '12000000 euros']\n",
    "list8 = ['under the FP7 calls', 'under the H2020 calls']\n",
    "list9 = ['related with cybersecurity', 'related with energy', 'related with nuclear energy', 'related with NLP', 'related with machine learning', 'related with smart grids', 'related with border security']\n",
    "list42 = ['involved in SHIELD', 'involved in INODE','involved in HEIMDALL','involved in TRESSPASS','involved in AORUS','involved in AI4U','involved in HARMONY',]\n",
    "text1 = list(itertools.product(list1, list21, list3, list6, list7, list8, list9))\n",
    "text2 = list(itertools.product(list1, list21, list3, list4, list5, list6, list7, list8, list9))\n",
    "text3 = list(itertools.product(list1, list22, list3, list42, list6, list7))\n",
    "text4 = list(itertools.product(list1, list22, list3, list9, list6, list7))\n",
    "text5 = list(itertools.product(list1, list22, list3, list9))\n"
   ]
  },
  {
   "cell_type": "code",
   "execution_count": 2,
   "metadata": {},
   "outputs": [],
   "source": [
    "corpus=[]\n",
    "for i in range(len(text1)):\n",
    "    corpus.append(\" \".join(str(x) for x in text1[i]))\n",
    "    \n",
    "for i in range(len(text2)):\n",
    "    corpus.append(\" \".join(str(x) for x in text2[i]))\n",
    "    \n",
    "for i in range(len(text3)):\n",
    "    corpus.append(\" \".join(str(x) for x in text3[i]))\n",
    "    \n",
    "for i in range(len(text4)):\n",
    "    corpus.append(\" \".join(str(x) for x in text4[i]))\n",
    "    \n",
    "for i in range(len(text5)):\n",
    "    corpus.append(\" \".join(str(x) for x in text5[i]))\n",
    "    \n"
   ]
  },
  {
   "cell_type": "code",
   "execution_count": 3,
   "metadata": {},
   "outputs": [],
   "source": [
    "with open(\"generated_samples.txt\", \"w\") as output:\n",
    "    output.write(str(corpus)+ \"\\n\")\n",
    "    \n",
    "with open(\"generated_samples.txt\", \"w\") as output:\n",
    "    for x in corpus:\n",
    "        output.write(x + \"\\n\")"
   ]
  },
  {
   "cell_type": "code",
   "execution_count": 5,
   "metadata": {},
   "outputs": [
    {
     "data": {
      "text/plain": [
       "'Bring projects from Greece with a budget greater than 4000000 euros under the FP7 calls related with energy'"
      ]
     },
     "execution_count": 5,
     "metadata": {},
     "output_type": "execute_result"
    }
   ],
   "source": [
    "corpus[1]"
   ]
  },
  {
   "cell_type": "code",
   "execution_count": null,
   "metadata": {},
   "outputs": [],
   "source": []
  }
 ],
 "metadata": {
  "kernelspec": {
   "display_name": "Python 3",
   "language": "python",
   "name": "python3"
  },
  "language_info": {
   "codemirror_mode": {
    "name": "ipython",
    "version": 3
   },
   "file_extension": ".py",
   "mimetype": "text/x-python",
   "name": "python",
   "nbconvert_exporter": "python",
   "pygments_lexer": "ipython3",
   "version": "3.6.9"
  }
 },
 "nbformat": 4,
 "nbformat_minor": 2
}
